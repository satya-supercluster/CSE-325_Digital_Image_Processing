{
 "cells": [
  {
   "cell_type": "markdown",
   "metadata": {},
   "source": [
    "Imports and load the Image"
   ]
  },
  {
   "cell_type": "code",
   "execution_count": 3,
   "metadata": {},
   "outputs": [],
   "source": [
    "import cv2\n",
    "import numpy as np\n",
    "import random\n",
    "from scipy.spatial import distance\n",
    "import matplotlib.pyplot as plt\n",
    "image = cv2.imread(\"image.jpg\", cv2.IMREAD_GRAYSCALE)\n",
    "height, width = image.shape\n"
   ]
  },
  {
   "cell_type": "markdown",
   "metadata": {},
   "source": [
    "(a) Select 20 Random Points and Compute Distances"
   ]
  },
  {
   "cell_type": "code",
   "execution_count": 4,
   "metadata": {},
   "outputs": [
    {
     "name": "stdout",
     "output_type": "stream",
     "text": [
      "20 Random Points and Their Distances:\n",
      "Points ((1212, 1857), (1536, 930)): {'Euclidean': 981.9903258179278, 'Manhattan': 1251, 'Chebyshev': 927}\n",
      "Points ((1536, 930), (1583, 2371)): {'Euclidean': 1441.76627786892, 'Manhattan': 1488, 'Chebyshev': 1441}\n",
      "Points ((1583, 2371), (968, 209)): {'Euclidean': 2247.7697835854988, 'Manhattan': 2777, 'Chebyshev': 2162}\n",
      "Points ((968, 209), (1078, 1813)): {'Euclidean': 1607.7673961117634, 'Manhattan': 1714, 'Chebyshev': 1604}\n",
      "Points ((1078, 1813), (794, 154)): {'Euclidean': 1683.133090400162, 'Manhattan': 1943, 'Chebyshev': 1659}\n",
      "Points ((794, 154), (922, 1056)): {'Euclidean': 911.036772035026, 'Manhattan': 1030, 'Chebyshev': 902}\n",
      "Points ((922, 1056), (1035, 1288)): {'Euclidean': 258.0561954303752, 'Manhattan': 345, 'Chebyshev': 232}\n",
      "Points ((1035, 1288), (1035, 1111)): {'Euclidean': 177.0, 'Manhattan': 177, 'Chebyshev': 177}\n",
      "Points ((1035, 1111), (503, 2135)): {'Euclidean': 1153.9497389401324, 'Manhattan': 1556, 'Chebyshev': 1024}\n",
      "Points ((503, 2135), (674, 2210)): {'Euclidean': 186.72439583514523, 'Manhattan': 246, 'Chebyshev': 171}\n",
      "Points ((674, 2210), (506, 2184)): {'Euclidean': 170.0, 'Manhattan': 194, 'Chebyshev': 168}\n",
      "Points ((506, 2184), (51, 2337)): {'Euclidean': 480.0354153601586, 'Manhattan': 608, 'Chebyshev': 455}\n",
      "Points ((51, 2337), (1423, 886)): {'Euclidean': 1996.94391508625, 'Manhattan': 2823, 'Chebyshev': 1451}\n",
      "Points ((1423, 886), (1504, 309)): {'Euclidean': 582.6577039737825, 'Manhattan': 658, 'Chebyshev': 577}\n",
      "Points ((1504, 309), (455, 907)): {'Euclidean': 1207.478778281424, 'Manhattan': 1647, 'Chebyshev': 1049}\n",
      "Points ((455, 907), (1435, 897)): {'Euclidean': 980.0510190801293, 'Manhattan': 990, 'Chebyshev': 980}\n",
      "Points ((1435, 897), (514, 2026)): {'Euclidean': 1457.0113245956602, 'Manhattan': 2050, 'Chebyshev': 1129}\n",
      "Points ((514, 2026), (179, 1465)): {'Euclidean': 653.4110497994352, 'Manhattan': 896, 'Chebyshev': 561}\n",
      "Points ((179, 1465), (137, 814)): {'Euclidean': 652.3534318143808, 'Manhattan': 693, 'Chebyshev': 651}\n"
     ]
    }
   ],
   "source": [
    "random_points = [(random.randint(0, height-1), random.randint(0, width-1)) for _ in range(20)]\n",
    "def compute_distances(p, q):\n",
    "    return {\n",
    "        \"Euclidean\": distance.euclidean(p, q),\n",
    "        \"Manhattan\": distance.cityblock(p, q),\n",
    "        \"Chebyshev\": distance.chebyshev(p, q),\n",
    "    }\n",
    "distances_a = {}\n",
    "for i in range(len(random_points) - 1):\n",
    "    p, q = random_points[i], random_points[i + 1]\n",
    "    distances_a[(p, q)] = compute_distances(p, q)\n",
    "print(\"20 Random Points and Their Distances:\")\n",
    "for pair, dists in distances_a.items():\n",
    "    print(f\"Points {pair}: {dists}\")"
   ]
  },
  {
   "cell_type": "markdown",
   "metadata": {},
   "source": [
    "(b) Select Points with the Same Intensity and Compute Distances"
   ]
  },
  {
   "cell_type": "code",
   "execution_count": 5,
   "metadata": {},
   "outputs": [
    {
     "name": "stdout",
     "output_type": "stream",
     "text": [
      "\n",
      "Points with Same Intensity and Their Distances:\n",
      "Points ((601, 284), (425, 1295)): {'Euclidean': 1026.2051451829698, 'Manhattan': 1187, 'Chebyshev': 1011}\n",
      "Points ((1021, 873), (490, 1730)): {'Euclidean': 1008.1716123755915, 'Manhattan': 1388, 'Chebyshev': 857}\n",
      "Points ((380, 977), (385, 1050)): {'Euclidean': 73.17103251970687, 'Manhattan': 78, 'Chebyshev': 73}\n",
      "Points ((1593, 2426), (1416, 2367)): {'Euclidean': 186.57438194993438, 'Manhattan': 236, 'Chebyshev': 177}\n",
      "Points ((803, 1915), (521, 1802)): {'Euclidean': 303.7976300105055, 'Manhattan': 395, 'Chebyshev': 282}\n",
      "Points ((378, 1832), (944, 1539)): {'Euclidean': 637.3421373171556, 'Manhattan': 859, 'Chebyshev': 566}\n",
      "Points ((662, 1935), (425, 1417)): {'Euclidean': 569.642870577698, 'Manhattan': 755, 'Chebyshev': 518}\n",
      "Points ((1158, 2136), (618, 1834)): {'Euclidean': 618.7115644627955, 'Manhattan': 842, 'Chebyshev': 540}\n",
      "Points ((1354, 2302), (1352, 63)): {'Euclidean': 2239.00089325574, 'Manhattan': 2241, 'Chebyshev': 2239}\n",
      "Points ((1193, 1229), (1199, 1552)): {'Euclidean': 323.05572274763995, 'Manhattan': 329, 'Chebyshev': 323}\n"
     ]
    }
   ],
   "source": [
    "same_intensity_points = []\n",
    "while len(same_intensity_points) < 10:\n",
    "    p = (random.randint(0, height-1), random.randint(0, width-1))\n",
    "    q = (random.randint(0, height-1), random.randint(0, width-1))\n",
    "    if image[p] == image[q]:\n",
    "        same_intensity_points.append((p, q))\n",
    "distances_b = {pair: compute_distances(pair[0], pair[1]) for pair in same_intensity_points}\n",
    "print(\"\\nPoints with Same Intensity and Their Distances:\")\n",
    "for pair, dists in distances_b.items():\n",
    "    print(f\"Points {pair}: {dists}\")"
   ]
  },
  {
   "cell_type": "markdown",
   "metadata": {},
   "source": [
    "(c) Count the Number of Pairs with the Same Distance"
   ]
  },
  {
   "cell_type": "code",
   "execution_count": null,
   "metadata": {},
   "outputs": [
    {
     "name": "stdout",
     "output_type": "stream",
     "text": [
      "\n",
      "Number of Pairs with the Same Distance:\n",
      "Distance 168: 1 pairs\n",
      "Distance 170.0: 1 pairs\n",
      "Distance 171: 1 pairs\n",
      "Distance 177.0: 3 pairs\n",
      "Distance 186.72: 1 pairs\n",
      "Distance 194: 1 pairs\n",
      "Distance 232: 1 pairs\n",
      "Distance 246: 1 pairs\n",
      "Distance 258.06: 1 pairs\n",
      "Distance 345: 1 pairs\n",
      "Distance 455: 1 pairs\n",
      "Distance 480.04: 1 pairs\n",
      "Distance 561: 1 pairs\n",
      "Distance 577: 1 pairs\n",
      "Distance 582.66: 1 pairs\n",
      "Distance 608: 1 pairs\n",
      "Distance 651: 1 pairs\n",
      "Distance 652.35: 1 pairs\n",
      "Distance 653.41: 1 pairs\n",
      "Distance 658: 1 pairs\n",
      "Distance 693: 1 pairs\n",
      "Distance 896: 1 pairs\n",
      "Distance 902: 1 pairs\n",
      "Distance 911.04: 1 pairs\n",
      "Distance 927: 1 pairs\n",
      "Distance 980: 1 pairs\n",
      "Distance 980.05: 1 pairs\n",
      "Distance 981.99: 1 pairs\n",
      "Distance 990: 1 pairs\n",
      "Distance 1024: 1 pairs\n",
      "Distance 1030: 1 pairs\n",
      "Distance 1049: 1 pairs\n",
      "Distance 1129: 1 pairs\n",
      "Distance 1153.95: 1 pairs\n",
      "Distance 1207.48: 1 pairs\n",
      "Distance 1251: 1 pairs\n",
      "Distance 1441: 1 pairs\n",
      "Distance 1441.77: 1 pairs\n",
      "Distance 1451: 1 pairs\n",
      "Distance 1457.01: 1 pairs\n",
      "Distance 1488: 1 pairs\n",
      "Distance 1556: 1 pairs\n",
      "Distance 1604: 1 pairs\n",
      "Distance 1607.77: 1 pairs\n",
      "Distance 1647: 1 pairs\n",
      "Distance 1659: 1 pairs\n",
      "Distance 1683.13: 1 pairs\n",
      "Distance 1714: 1 pairs\n",
      "Distance 1943: 1 pairs\n",
      "Distance 1996.94: 1 pairs\n",
      "Distance 2050: 1 pairs\n",
      "Distance 2162: 1 pairs\n",
      "Distance 2247.77: 1 pairs\n",
      "Distance 2777: 1 pairs\n",
      "Distance 2823: 1 pairs\n"
     ]
    }
   ],
   "source": [
    "distance_counts = {}\n",
    "for dist_dict in distances_a.values():\n",
    "    for d_type, d_value in dist_dict.items():\n",
    "        rounded_dist = round(d_value, 2)\n",
    "        if rounded_dist in distance_counts:\n",
    "            distance_counts[rounded_dist] += 1\n",
    "        else:\n",
    "            distance_counts[rounded_dist] = 1\n",
    "print(\"\\nNumber of Pairs with the Same Distance:\")\n",
    "for dist, count in sorted(distance_counts.items()):\n",
    "    print(f\"Distance {dist}: {count} pairs\")"
   ]
  },
  {
   "cell_type": "markdown",
   "metadata": {},
   "source": [
    "(d) Find the Shortest and Longest Distances"
   ]
  },
  {
   "cell_type": "code",
   "execution_count": 7,
   "metadata": {},
   "outputs": [
    {
     "name": "stdout",
     "output_type": "stream",
     "text": [
      "\n",
      "Shortest and Longest Distances Count:\n",
      "Shortest Distance: 168, Count: 1\n",
      "Longest Distance: 2823, Count: 1\n"
     ]
    }
   ],
   "source": [
    "sorted_distances = sorted(distance_counts.keys())\n",
    "shortest_distance, longest_distance = sorted_distances[0], sorted_distances[-1]\n",
    "shortest_count = distance_counts[shortest_distance]\n",
    "longest_count = distance_counts[longest_distance]\n",
    "print(\"\\nShortest and Longest Distances Count:\")\n",
    "print(f\"Shortest Distance: {shortest_distance}, Count: {shortest_count}\")\n",
    "print(f\"Longest Distance: {longest_distance}, Count: {longest_count}\")"
   ]
  }
 ],
 "metadata": {
  "kernelspec": {
   "display_name": "Python 3",
   "language": "python",
   "name": "python3"
  },
  "language_info": {
   "codemirror_mode": {
    "name": "ipython",
    "version": 3
   },
   "file_extension": ".py",
   "mimetype": "text/x-python",
   "name": "python",
   "nbconvert_exporter": "python",
   "pygments_lexer": "ipython3",
   "version": "3.12.3"
  }
 },
 "nbformat": 4,
 "nbformat_minor": 2
}
