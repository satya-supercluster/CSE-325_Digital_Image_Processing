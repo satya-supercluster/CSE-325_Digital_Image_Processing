{
 "cells": [
  {
   "cell_type": "code",
   "execution_count": 3,
   "metadata": {},
   "outputs": [
    {
     "name": "stdout",
     "output_type": "stream",
     "text": [
      "4-connectivity contours: 17084\n",
      "8-connectivity contours: 17084\n",
      "Distances in grayscale (Euclidean, Manhattan, Chebyshev): (141.4213562373095, 200, 100)\n",
      "Distances in RGB plane (Euclidean, Manhattan, Chebyshev): (254.7802975114049, 441, 153)\n"
     ]
    }
   ],
   "source": [
    "import cv2\n",
    "import numpy as np\n",
    "from scipy.spatial import distance\n",
    "image = cv2.imread('image.jpg')\n",
    "\n",
    "def connectivity(image):\n",
    "    gray = cv2.cvtColor(image, cv2.COLOR_BGR2GRAY)\n",
    "    _, binary = cv2.threshold(gray, 127, 255, cv2.THRESH_BINARY)\n",
    "\n",
    "    contours_4, _ = cv2.findContours(binary, cv2.RETR_LIST, cv2.CHAIN_APPROX_SIMPLE)\n",
    "\n",
    "    contours_8, _ = cv2.findContours(binary, cv2.RETR_LIST, cv2.CHAIN_APPROX_NONE)\n",
    "\n",
    "    return contours_4, contours_8\n",
    "\n",
    "def rgb_to_grayscale(image):\n",
    "    return cv2.cvtColor(image, cv2.COLOR_BGR2GRAY)\n",
    "\n",
    "def calculate_distances(gray_image, p, q):\n",
    "    euclidean_dist = distance.euclidean(p, q)\n",
    "    manhattan_dist = distance.cityblock(p, q)\n",
    "    chebyshev_dist = distance.chebyshev(p, q)\n",
    "    \n",
    "    return euclidean_dist, manhattan_dist, chebyshev_dist\n",
    "\n",
    "def calculate_rgb_distances(image, p, q):\n",
    "    p_rgb = image[p[1], p[0]]\n",
    "    q_rgb = image[q[1], q[0]]\n",
    "    \n",
    "    euclidean_dist = distance.euclidean(p_rgb, q_rgb)\n",
    "    manhattan_dist = distance.cityblock(p_rgb, q_rgb)\n",
    "    chebyshev_dist = distance.chebyshev(p_rgb, q_rgb)\n",
    "    \n",
    "    return euclidean_dist, manhattan_dist, chebyshev_dist\n",
    "\n",
    "contours_4, contours_8 = connectivity(image)\n",
    "gray_image = rgb_to_grayscale(image)\n",
    "\n",
    "p = (100, 100)\n",
    "q = (200, 200)\n",
    "\n",
    "gray_distances = calculate_distances(gray_image, p, q)\n",
    "rgb_distances = calculate_rgb_distances(image, p, q)\n",
    "\n",
    "print(\"4-connectivity contours:\", len(contours_4))\n",
    "print(\"8-connectivity contours:\", len(contours_8))\n",
    "print(\"Distances in grayscale (Euclidean, Manhattan, Chebyshev):\", gray_distances)\n",
    "print(\"Distances in RGB plane (Euclidean, Manhattan, Chebyshev):\", rgb_distances)"
   ]
  }
 ],
 "metadata": {
  "kernelspec": {
   "display_name": "Python 3",
   "language": "python",
   "name": "python3"
  },
  "language_info": {
   "codemirror_mode": {
    "name": "ipython",
    "version": 3
   },
   "file_extension": ".py",
   "mimetype": "text/x-python",
   "name": "python",
   "nbconvert_exporter": "python",
   "pygments_lexer": "ipython3",
   "version": "3.12.3"
  }
 },
 "nbformat": 4,
 "nbformat_minor": 2
}
